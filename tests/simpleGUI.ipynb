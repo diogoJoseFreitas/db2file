{
 "cells": [
  {
   "cell_type": "code",
   "execution_count": null,
   "metadata": {},
   "outputs": [],
   "source": [
    "import tkinter as tk"
   ]
  },
  {
   "cell_type": "code",
   "execution_count": 46,
   "metadata": {},
   "outputs": [],
   "source": [
    "class Window(tk.Tk):\n",
    "    def __init__(self, screenName = None, baseName = None, className = \"Tk\", useTk = True, sync = False, use = None, geometry='400x300', layout = [[],[]]):\n",
    "        super().__init__(screenName, baseName, className, useTk, sync, use)\n",
    "        self.geometry(geometry)\n",
    "        self.setLayout(self, layout)\n",
    "\n",
    "    def setLayout(self, master, layout):\n",
    "        frame = tk.Frame(master)\n",
    "        for index, item in enumerate(layout):\n",
    "            if isinstance(item, list):\n",
    "                self.setLayout(frame, item)\n",
    "            else:\n",
    "                item.create(frame, ipadx=5)\n",
    "        frame.pack(fill='x', anchor='n')"
   ]
  },
  {
   "cell_type": "code",
   "execution_count": 34,
   "metadata": {},
   "outputs": [],
   "source": [
    "class label(tk.Label):\n",
    "    def __init__(self, cnf = None, *, activebackground = None, activeforeground = None, anchor = \"center\", background = None, bd = None, bg = None, bitmap = \"\", border = None, borderwidth = None, compound = \"none\", cursor = \"\", disabledforeground = None, fg = None, font = \"TkDefaultFont\", foreground = None, height = 0, highlightbackground = None, highlightcolor = None, highlightthickness = 0, image = \"\", justify = \"center\", name = None, padx = 1, pady = 1, relief = \"flat\", state = \"normal\", takefocus = 0, text = \"\", textvariable = None, underline = -1, width = 0, wraplength = 0):\n",
    "        self.kwargs = {  # Store all provided arguments\n",
    "            k: v for k, v in locals().items() if k != \"self\" and v is not None\n",
    "        }\n",
    "    \n",
    "    def create(self, master = None, cnf = None, *, after = None, anchor=None, before=None, expand = False, fill= None, side='left', ipadx= 0, ipady= 0, padx: int | tuple[int, int] = 0,  pady: int | tuple[int, int] = 0, in_=None, **kwargs):\n",
    "        super().__init__(master=master, **self.kwargs)\n",
    "\n",
    "        args = {k: v for k, v in locals().items() if k not in [\"self\", 'master', 'kwargs', '__class__'] and v is not None}\n",
    "        self.pack(**args)"
   ]
  },
  {
   "cell_type": "code",
   "execution_count": 48,
   "metadata": {},
   "outputs": [],
   "source": [
    "class textInput(tk.Entry):\n",
    "    def __init__(self, cnf = None, *, background = None, bd = None, bg = None, border = None, borderwidth = None, cursor = \"xterm\", disabledbackground = None, disabledforeground = None, exportselection = True, fg = None, font = \"TkTextFont\", foreground = None, highlightbackground = None, highlightcolor = None, highlightthickness = None, insertbackground = None, insertborderwidth = 0, insertofftime = 300, insertontime = 600, insertwidth = None, invalidcommand = \"\", invcmd = \"\", justify = \"left\", name = None, readonlybackground = None, relief = \"sunken\", selectbackground = None, selectborderwidth = None, selectforeground = None, show = \"\", state = \"normal\", takefocus = \"\", textvariable = None, validate = \"none\", validatecommand = \"\", vcmd = \"\", width = 20, xscrollcommand = \"\"):\n",
    "        self.kwargs = {  # Store all provided arguments\n",
    "            k: v for k, v in locals().items() if k != \"self\" and v is not None\n",
    "        }\n",
    "    \n",
    "    def create(self, master = None, cnf = None, *, after = None, anchor=None, before=None, expand = True, fill= 'x', side='left', ipadx= 0, ipady= 0, padx: int | tuple[int, int] = (0, 5),  pady: int | tuple[int, int] = 0, in_=None, **kwargs):\n",
    "        super().__init__(master=master, **self.kwargs)\n",
    "\n",
    "        args = {k: v for k, v in locals().items() if k not in [\"self\", 'master', 'kwargs', '__class__'] and v is not None}\n",
    "        self.pack(**args)"
   ]
  },
  {
   "cell_type": "code",
   "execution_count": 36,
   "metadata": {},
   "outputs": [],
   "source": [
    "from tkcalendar import DateEntry"
   ]
  },
  {
   "cell_type": "code",
   "execution_count": 55,
   "metadata": {},
   "outputs": [],
   "source": [
    "from datetime import datetime, timedelta"
   ]
  },
  {
   "cell_type": "code",
   "execution_count": 59,
   "metadata": {},
   "outputs": [],
   "source": [
    "class dateInput(DateEntry):\n",
    "    def __init__(self,date_pattern=\"dd/mm/yyyy\", days_from_today:int=0, width=10, **kw):\n",
    "        temp = dict(locals().items())\n",
    "        temp.update(**kw)\n",
    "        temp.pop(\"kw\")\n",
    "        self.date = datetime.today() + timedelta(days=days_from_today)\n",
    "        self.kwargs = {\n",
    "            k: v for k, v in temp.items() if k != \"self\" and v is not None\n",
    "        }\n",
    "    \n",
    "    def create(self, master = None, cnf = None, *, after = None, anchor=None, before=None, expand = False, fill= None, side='left', ipadx= 0, ipady= 0, padx: int | tuple[int, int] = (0, 5),  pady: int | tuple[int, int] = 0, in_=None, **kwargs):\n",
    "        super().__init__(master=master, **self.kwargs)\n",
    "        self.set_date(self.date)\n",
    "        args = {k: v for k, v in locals().items() if k not in [\"self\", 'master', 'kwargs', '__class__'] and v is not None}\n",
    "        self.pack(**args)"
   ]
  },
  {
   "cell_type": "code",
   "execution_count": null,
   "metadata": {},
   "outputs": [],
   "source": [
    "layout = [\n",
    "    [label(text=\"Nome do Arquivo\"), textInput()], \n",
    "    [label(text=\"Data Início\"), dateInput(days_from_today=-30), label(text=\"Data Fim\"), dateInput()],\n",
    "    [label(text=\"linha 2\")]\n",
    "]\n",
    "main = Window(layout=layout)\n",
    "\n",
    "main.mainloop()"
   ]
  },
  {
   "cell_type": "code",
   "execution_count": 57,
   "metadata": {},
   "outputs": [
    {
     "data": {
      "text/plain": [
       "datetime.datetime(2024, 12, 15, 0, 5, 44, 804049)"
      ]
     },
     "execution_count": 57,
     "metadata": {},
     "output_type": "execute_result"
    }
   ],
   "source": [
    "datetime.today()+timedelta(days=-30)"
   ]
  }
 ],
 "metadata": {
  "kernelspec": {
   "display_name": "Python 3",
   "language": "python",
   "name": "python3"
  },
  "language_info": {
   "codemirror_mode": {
    "name": "ipython",
    "version": 3
   },
   "file_extension": ".py",
   "mimetype": "text/x-python",
   "name": "python",
   "nbconvert_exporter": "python",
   "pygments_lexer": "ipython3",
   "version": "3.13.1"
  }
 },
 "nbformat": 4,
 "nbformat_minor": 2
}
